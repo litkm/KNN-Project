{
  "nbformat": 4,
  "nbformat_minor": 0,
  "metadata": {
    "colab": {
      "name": "KNN Case Dataset Generator.ipynb",
      "provenance": [],
      "authorship_tag": "ABX9TyNXAG4g28eYJ8R8GEGoe6RA",
      "include_colab_link": true
    },
    "kernelspec": {
      "name": "python3",
      "display_name": "Python 3"
    },
    "language_info": {
      "name": "python"
    }
  },
  "cells": [
    {
      "cell_type": "markdown",
      "metadata": {
        "id": "view-in-github",
        "colab_type": "text"
      },
      "source": [
        "<a href=\"https://colab.research.google.com/github/litkm/KNN-Project/blob/main/KNN_Case_Dataset_Generator.ipynb\" target=\"_parent\"><img src=\"https://colab.research.google.com/assets/colab-badge.svg\" alt=\"Open In Colab\"/></a>"
      ]
    },
    {
      "cell_type": "code",
      "metadata": {
        "id": "QPAq8kRSAZzS"
      },
      "source": [
        "# Creates a dataset of cases. Each row is one case. Each case has 14 features. Each feature is assigned randomly.  \n",
        "# Each feature is assigned independent of every other feature. Accordingly, nonsensical results are possible (e.g. a case with no causes of action).\n",
        "# Five features are categorical. One feature is the claim amount; this is a number randomly generated between 500,000 and 20,000,000.\n",
        "# The remaining deatures use true (1) and false (0) to indicate whether a feature applies.\n",
        "\n",
        "import random\n",
        "import pandas as pd\n",
        "\n",
        "lawyers =[\"Lawyer Alpha\", \"Lawyer Beta\", \"Lawyer Gamma\", \"Lawyer Delta\", \"Lawyer Epsilon\", \"Lawyer Zeta\", \"Lawyer Eta\", \"Lawyer Theta\", \"Lawyer Iota\", \"Lawyer Kappa\"]\n",
        "\n",
        "matter_type = [\"Action (Commercial)\", \"Action (Securities)\", \"Action (Product Liability)\", \"Action (Privacy)\", \"Class Action (Securities)\", \"Class Action (Product Liabilty\", \"Class Action (Privacy\", \"Class Action (Competition)\"]\n",
        "\n",
        "jurisdiction = [\"British Columbia\", \"Alberta\", \"Ontario\", \"Quebec\", \"Federal\"]\n",
        "\n",
        "industry = [\"Banking\", \"Resources\", \"Construction\", \"Insurance\", \"Pharmaceuticals\", \"Technology\", \"Retail\", \"Transportation\"]\n",
        "\n",
        "client_role = [\"Plaintiff\", \"Defendant\", \"Third Party\"]\n",
        "\n",
        "cases = []\n",
        "\n",
        "def add_case():\n",
        "  case = [random.choice(lawyers), random.choice(matter_type), random.choice(jurisdiction), random.choice(industry), random.choice(client_role), random.randint(0,1), random.randint(0,1), random.randint(0,1), random.randint(0,1), random.randint(0,1), random.randint(0,1), random.randint(0,1), random.randint(0,1), random.randint(500000, 20000000)]\n",
        "  cases.append(case)\n",
        "  return\n",
        "\n",
        "# Edit the number to the right of the < to specify the number of cases in the dataset\n",
        "x = 0\n",
        "while x < 10000:\n",
        "  add_case()\n",
        "  x += 1\n",
        "\n",
        "df = pd.DataFrame(cases, columns=['Lawyer', 'Matter Type', 'Jurisdiction', 'Industry', 'Client Role', 'Tort', 'Contract', 'Restitution', 'Statute', 'Injunction', 'Jurisdiction Motion', 'Motion to Strike', 'Summary Judgment', 'Claim Amount'])\n",
        "\n",
        "df.to_csv('cases_dataset.csv')"
      ],
      "execution_count": 23,
      "outputs": []
    },
    {
      "cell_type": "code",
      "metadata": {
        "colab": {
          "base_uri": "https://localhost:8080/",
          "height": 272
        },
        "id": "NGw0HiryDkiB",
        "outputId": "1ac77ec6-8202-4ca4-82b4-9b4808332d4b"
      },
      "source": [
        "df.head()"
      ],
      "execution_count": 24,
      "outputs": [
        {
          "output_type": "execute_result",
          "data": {
            "text/html": [
              "<div>\n",
              "<style scoped>\n",
              "    .dataframe tbody tr th:only-of-type {\n",
              "        vertical-align: middle;\n",
              "    }\n",
              "\n",
              "    .dataframe tbody tr th {\n",
              "        vertical-align: top;\n",
              "    }\n",
              "\n",
              "    .dataframe thead th {\n",
              "        text-align: right;\n",
              "    }\n",
              "</style>\n",
              "<table border=\"1\" class=\"dataframe\">\n",
              "  <thead>\n",
              "    <tr style=\"text-align: right;\">\n",
              "      <th></th>\n",
              "      <th>Lawyer</th>\n",
              "      <th>Matter Type</th>\n",
              "      <th>Jurisdiction</th>\n",
              "      <th>Industry</th>\n",
              "      <th>Client Role</th>\n",
              "      <th>Tort</th>\n",
              "      <th>Contract</th>\n",
              "      <th>Restitution</th>\n",
              "      <th>Statute</th>\n",
              "      <th>Injunction</th>\n",
              "      <th>Jurisdiction Motion</th>\n",
              "      <th>Motion to Strike</th>\n",
              "      <th>Summary Judgment</th>\n",
              "      <th>Claim Amount</th>\n",
              "    </tr>\n",
              "  </thead>\n",
              "  <tbody>\n",
              "    <tr>\n",
              "      <th>0</th>\n",
              "      <td>Lawyer Beta</td>\n",
              "      <td>Action (Privacy)</td>\n",
              "      <td>Quebec</td>\n",
              "      <td>Banking</td>\n",
              "      <td>Plaintiff</td>\n",
              "      <td>1</td>\n",
              "      <td>1</td>\n",
              "      <td>0</td>\n",
              "      <td>1</td>\n",
              "      <td>1</td>\n",
              "      <td>0</td>\n",
              "      <td>0</td>\n",
              "      <td>1</td>\n",
              "      <td>8785071</td>\n",
              "    </tr>\n",
              "    <tr>\n",
              "      <th>1</th>\n",
              "      <td>Lawyer Iota</td>\n",
              "      <td>Action (Commercial)</td>\n",
              "      <td>British Columbia</td>\n",
              "      <td>Technology</td>\n",
              "      <td>Defendant</td>\n",
              "      <td>1</td>\n",
              "      <td>1</td>\n",
              "      <td>0</td>\n",
              "      <td>0</td>\n",
              "      <td>0</td>\n",
              "      <td>0</td>\n",
              "      <td>0</td>\n",
              "      <td>1</td>\n",
              "      <td>8728537</td>\n",
              "    </tr>\n",
              "    <tr>\n",
              "      <th>2</th>\n",
              "      <td>Lawyer Theta</td>\n",
              "      <td>Class Action (Securities)</td>\n",
              "      <td>Alberta</td>\n",
              "      <td>Pharmaceuticals</td>\n",
              "      <td>Plaintiff</td>\n",
              "      <td>0</td>\n",
              "      <td>1</td>\n",
              "      <td>1</td>\n",
              "      <td>1</td>\n",
              "      <td>1</td>\n",
              "      <td>0</td>\n",
              "      <td>1</td>\n",
              "      <td>1</td>\n",
              "      <td>14418874</td>\n",
              "    </tr>\n",
              "    <tr>\n",
              "      <th>3</th>\n",
              "      <td>Lawyer Kappa</td>\n",
              "      <td>Class Action (Securities)</td>\n",
              "      <td>Quebec</td>\n",
              "      <td>Pharmaceuticals</td>\n",
              "      <td>Third Party</td>\n",
              "      <td>1</td>\n",
              "      <td>0</td>\n",
              "      <td>1</td>\n",
              "      <td>0</td>\n",
              "      <td>0</td>\n",
              "      <td>0</td>\n",
              "      <td>1</td>\n",
              "      <td>0</td>\n",
              "      <td>4260643</td>\n",
              "    </tr>\n",
              "    <tr>\n",
              "      <th>4</th>\n",
              "      <td>Lawyer Zeta</td>\n",
              "      <td>Class Action (Privacy</td>\n",
              "      <td>Alberta</td>\n",
              "      <td>Pharmaceuticals</td>\n",
              "      <td>Defendant</td>\n",
              "      <td>1</td>\n",
              "      <td>0</td>\n",
              "      <td>0</td>\n",
              "      <td>1</td>\n",
              "      <td>1</td>\n",
              "      <td>0</td>\n",
              "      <td>1</td>\n",
              "      <td>1</td>\n",
              "      <td>10332617</td>\n",
              "    </tr>\n",
              "  </tbody>\n",
              "</table>\n",
              "</div>"
            ],
            "text/plain": [
              "         Lawyer                Matter Type  ... Summary Judgment Claim Amount\n",
              "0   Lawyer Beta           Action (Privacy)  ...                1      8785071\n",
              "1   Lawyer Iota        Action (Commercial)  ...                1      8728537\n",
              "2  Lawyer Theta  Class Action (Securities)  ...                1     14418874\n",
              "3  Lawyer Kappa  Class Action (Securities)  ...                0      4260643\n",
              "4   Lawyer Zeta      Class Action (Privacy  ...                1     10332617\n",
              "\n",
              "[5 rows x 14 columns]"
            ]
          },
          "metadata": {},
          "execution_count": 24
        }
      ]
    },
    {
      "cell_type": "code",
      "metadata": {
        "colab": {
          "base_uri": "https://localhost:8080/"
        },
        "id": "BSTzBl6LDnGk",
        "outputId": "b20b1329-4f73-4ad8-c716-3dbfdb80514f"
      },
      "source": [
        "df.info()"
      ],
      "execution_count": 25,
      "outputs": [
        {
          "output_type": "stream",
          "text": [
            "<class 'pandas.core.frame.DataFrame'>\n",
            "RangeIndex: 10000 entries, 0 to 9999\n",
            "Data columns (total 14 columns):\n",
            " #   Column               Non-Null Count  Dtype \n",
            "---  ------               --------------  ----- \n",
            " 0   Lawyer               10000 non-null  object\n",
            " 1   Matter Type          10000 non-null  object\n",
            " 2   Jurisdiction         10000 non-null  object\n",
            " 3   Industry             10000 non-null  object\n",
            " 4   Client Role          10000 non-null  object\n",
            " 5   Tort                 10000 non-null  int64 \n",
            " 6   Contract             10000 non-null  int64 \n",
            " 7   Restitution          10000 non-null  int64 \n",
            " 8   Statute              10000 non-null  int64 \n",
            " 9   Injunction           10000 non-null  int64 \n",
            " 10  Jurisdiction Motion  10000 non-null  int64 \n",
            " 11  Motion to Strike     10000 non-null  int64 \n",
            " 12  Summary Judgment     10000 non-null  int64 \n",
            " 13  Claim Amount         10000 non-null  int64 \n",
            "dtypes: int64(9), object(5)\n",
            "memory usage: 1.1+ MB\n"
          ],
          "name": "stdout"
        }
      ]
    }
  ]
}